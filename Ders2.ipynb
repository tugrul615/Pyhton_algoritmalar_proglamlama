{
  "nbformat": 4,
  "nbformat_minor": 0,
  "metadata": {
    "colab": {
      "provenance": []
    },
    "kernelspec": {
      "name": "python3",
      "display_name": "Python 3"
    },
    "language_info": {
      "name": "python"
    }
  },
  "cells": [
    {
      "cell_type": "code",
      "execution_count": null,
      "metadata": {
        "colab": {
          "base_uri": "https://localhost:8080/"
        },
        "id": "uvzZM9JZIlS0",
        "outputId": "293755c8-98e6-40cc-998b-7cc099986b66"
      },
      "outputs": [
        {
          "output_type": "stream",
          "name": "stdout",
          "text": [
            "Merhaba  Pyhton  Algoritma  Sınıfı\n"
          ]
        }
      ],
      "source": [
        "print(\"Merhaba  Pyhton  Algoritma  Sınıfı\")\n"
      ]
    },
    {
      "cell_type": "markdown",
      "source": [
        "string  bilgi türü - Metinsel İfadedir.\n",
        "integer bilgi türü - > sayısal ifadedir."
      ],
      "metadata": {
        "id": "fNywAZbWLCat"
      }
    },
    {
      "cell_type": "code",
      "source": [
        "import sys #import python programlama dilinde kütüphane eklemeye yarayan bir kod blogudur.\n",
        "print(sys.version)"
      ],
      "metadata": {
        "colab": {
          "base_uri": "https://localhost:8080/"
        },
        "id": "WJutLiRIMtO9",
        "outputId": "a8431ce4-4892-4187-bc0d-a6506e2cdb9b"
      },
      "execution_count": null,
      "outputs": [
        {
          "output_type": "stream",
          "name": "stdout",
          "text": [
            "3.11.11 (main, Dec  4 2024, 08:55:07) [GCC 11.4.0]\n"
          ]
        }
      ]
    },
    {
      "cell_type": "markdown",
      "source": [
        "yukardaki tanımlamalardan hangisi kütüphane eklemeye yarar : import //sınav sorusu\n"
      ],
      "metadata": {
        "id": "V_NPhbmONvPW"
      }
    },
    {
      "cell_type": "code",
      "source": [
        "from google.colab import drive\n",
        "drive.mount('/content/drive')"
      ],
      "metadata": {
        "colab": {
          "base_uri": "https://localhost:8080/"
        },
        "id": "Safn7-f1ODrl",
        "outputId": "0348aca2-b521-4e29-f26c-0c2ca72b2623"
      },
      "execution_count": null,
      "outputs": [
        {
          "output_type": "stream",
          "name": "stdout",
          "text": [
            "Mounted at /content/drive\n"
          ]
        }
      ]
    },
    {
      "cell_type": "code",
      "source": [
        "import os\n",
        "os.chdir('/content/drive/My Drive/ALGORITMALAR_MYO')"
      ],
      "metadata": {
        "id": "XpOGEYj4Pd64"
      },
      "execution_count": null,
      "outputs": []
    }
  ]
}